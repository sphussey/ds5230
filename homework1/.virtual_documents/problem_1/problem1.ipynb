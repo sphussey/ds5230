# import modules

import matplotlib.pyplot as plt
import difflib
import numpy as np
from collections import defaultdict
import sqlite3






# create SQLite database
conn = sqlite3.connect("acm_data.db")
cursor = conn.cursor()

# make a table acm_data to store the data
cursor.execute("""
    CREATE TABLE IF NOT EXISTS acm_data (
        id INTEGER PRIMARY KEY AUTOINCREMENT,  -- Use AUTOINCREMENT for unique ids
        index_value TEXT,
        key TEXT,
        value TEXT
    )
    """)
conn.commit()

# do batch inserts to speed up inserts
BATCH_SIZE = 1000
batch_data = []  # To store rows for batch insertion

# parse acm.txt and make batches to insert into db
with open('data/acm.txt', 'r') as acm:
    entry = {}
    for line in acm:
        if not line.strip():
            if entry:
                for key, value in entry.items():
                    if isinstance(value, list):  # Convert lists to a string
                        value = ', '.join(value)
                    batch_data.append((entry.get('#index', ''), key, value))
                
                # Insert in batches
                if len(batch_data) >= BATCH_SIZE:
                    cursor.executemany(
                        "INSERT INTO acm_data (index_value, key, value) VALUES (?, ?, ?)", batch_data
                    )
                    conn.commit()
                    batch_data = []  # Clear the batch

            entry = {}
            continue
        elif line.startswith('#index'):
            entry['#index'] = line.replace('#index', '').strip()
        elif line.startswith('#'):
            key = line[:2]
            value = line[2:].strip()
            if key in entry:
                if isinstance(entry[key], list):
                    entry[key].append(value)
                else:
                    entry[key] = [entry[key], value]
            else:
                if key == '#@':
                    entry[key] = value.split(', ')
                else:
                    entry[key] = [value]

# add any remaining data less than batch threshold
if batch_data:
    cursor.executemany(
        "INSERT INTO acm_data (index_value, key, value) VALUES (?, ?, ?)", batch_data
    )
    conn.commit()

# Close the connection
conn.close()


# establish connection
conn = sqlite3.connect("acm_data.db")
cursor = conn.cursor()

# use indexes for optimal query performance
cursor.execute("CREATE INDEX IF NOT EXISTS idx_key ON acm_data(key);")
cursor.execute("CREATE INDEX IF NOT EXISTS idx_value ON acm_data(value);")


cursor.execute("""
SELECT COUNT(DISTINCT value) FROM acm_data WHERE key = '#@' AND value != '';
""")
distinct_authors_count = cursor.fetchone()[0]

cursor.execute("""
SELECT COUNT(DISTINCT value) FROM acm_data WHERE key = '#c' AND value != '';
""")
distinct_publication_venues_count = cursor.fetchone()[0]

cursor.execute("""
SELECT COUNT(DISTINCT value) FROM acm_data WHERE key = '#*' AND value != '';
""")
distinct_publications_count = cursor.fetchone()[0]

cursor.execute("""
SELECT COUNT(DISTINCT value) FROM acm_data WHERE key = '#%' AND value != '';
""")
distinct_citations_count = cursor.fetchone()[0]

# Print the results
print(f'The number of distinct authors is : {distinct_authors_count}.')
print(f'The number of distinct publication venues are : {distinct_publication_venues_count}.')
print(f'The number of distinct publications are : {distinct_publications_count}.')
print(f'The number of distinct citations are : {distinct_citations_count}.')

# Close the database connection
conn.close()


# establish connection
conn = sqlite3.connect("acm_data.db")
cursor = conn.cursor()

# Fetch distinct publication venues
cursor.execute("""
SELECT DISTINCT value FROM acm_data
WHERE key = '#c' AND value != '';
""")
distinct_publication_venues = [venue[0] for venue in cursor.fetchall()]

# Search for close matches using difflib
print("Close matches (difflib) to 'Principles and Practice of Knowledge Discovery in Databases':\n")


close_matches = difflib.get_close_matches(
    "Principles and Practice of Knowledge Discovery in Databases", 
    distinct_publication_venues, 
    n=15
)

for match in close_matches:
    print(match)

# Search for substring matches
print("\nSubstring Matches to 'Principles and Practice of Knowledge Discovery in Databases':\n")
for entry in distinct_publication_venues:
    if "Principles and Practice of Knowledge Discovery in Databases" in entry:
        print(entry)

# Close the database connection
conn.close()



# connect to db
conn = sqlite3.connect("acm_data.db")
cursor = conn.cursor()

# make indexes so i dont wait all day
cursor.execute("CREATE INDEX IF NOT EXISTS idx_index_key ON acm_data (index_value, key);")
cursor.execute("CREATE INDEX IF NOT EXISTS idx_key_value ON acm_data (key, value);")
conn.commit()

# query database to get all authors and their pub titles
cursor.execute("""
SELECT a.value AS author, p.value AS publication_title
FROM acm_data a
JOIN acm_data p ON a.index_value = p.index_value
WHERE a.key = '#@' AND p.key = '#*';
""")

# parse result
author_publications = defaultdict(list)
for author, publication_title in cursor.fetchall():
    if author and publication_title:  # Ensure both author and title are valid
        author_publications[author].append(publication_title)

# get the number of publications per author
publications_per_author = [len(publications) for publications in author_publications.values()]

# Plot the histogram
plt.figure(figsize=(10, 6))
plt.hist(publications_per_author, 
         bins=200, 
         log=True, 
         color='steelblue', 
         edgecolor='black')
plt.title("Histogram of Publications per Author", 
          fontsize=14)
plt.xlabel("Number of Publications", 
           fontsize=12)
plt.ylabel("Number of Authors (log scale)", 
           fontsize=12)
plt.grid(axis='y', 
         linestyle='--', 
         alpha=0.7)
plt.show()

# Close the database connection
conn.close()


# Connect to the SQLite database
conn = sqlite3.connect("acm_data.db")
cursor = conn.cursor()

# Ensure the database is indexed for better performance
cursor.execute("CREATE INDEX IF NOT EXISTS idx_index_key_value ON acm_data (index_value, key, value);")
conn.commit()

# Query the database to count the number of publications per author
cursor.execute("""
SELECT a.value AS author, COUNT(DISTINCT p.value) AS publication_count
FROM acm_data a
JOIN acm_data p ON a.index_value = p.index_value
WHERE a.key = '#@' AND p.key = '#*'
GROUP BY a.value;
""")

# Fetch publication counts
publication_counts = [row[1] for row in cursor.fetchall()]

# Calculate statistics
mean = np.mean(publication_counts)
std_dev = np.std(publication_counts)
q1 = np.percentile(publication_counts, 25)  # 1st quartile
median = np.median(publication_counts)     # 2nd quartile (median)
q3 = np.percentile(publication_counts, 75)  # 3rd quartile

# Print results
print(f"Mean: {mean}")
print(f"Standard Deviation: {std_dev}")
print(f"Q1 (1st Quartile): {q1}")
print(f"Median (Q2): {median}")
print(f"Q3 (3rd Quartile): {q3}")

# Close the database connection
conn.close()


del acm_dict



