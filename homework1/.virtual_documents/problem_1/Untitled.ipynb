# import modules

import matplotlib.pyplot as plt
import difflib
import numpy as np
from collections import defaultdict


# load acm.txt data into a dictonary
# runs in about 30-70 seconds depending on how much my computer hates me at the time
# reference - https://stackoverflow.com/questions/13575090/construct-pandas-dataframe-from-items-in-nested-dictionary

counter = 1
acm_dict = {}
with open('data/acm.txt', 'r') as acm:
    entry = {}
    for line in acm:
        if not line:
            acm_dict[counter] = entry
            entry = {}
            counter += 1
            continue
        elif line.startswith('#index'):
            entry['#index'] = line.replace('#index','').replace('\n','')
            acm_dict[counter] = entry
            entry = {}
            counter += 1
        elif line.startswith('#'):
            key = line[:2]
            value = line[2:].replace('\n','')
            if key in entry.keys():
                entry[key].append(value)
            else:
                if key == '#@':
                    entry[key] = value.split(', ')
                else:
                    entry[key] = [value]




# runs in about 6-10 seconds
distinct_authors = set(
    pub_venue for value in acm_dict.values() for pub_venue in value.get('#@', []) if pub_venue
    )

distinct_publication_venues = set(
    pub_venue for value in acm_dict.values() for pub_venue in value.get('#c', []) if pub_venue
    )
distinct_publications = set(
    pub for value in acm_dict.values() for pub in value.get('#*', []) if pub
    )
distinct_citations = set(
    citation for value in acm_dict.values() for citation in value.get('#%', []) if citation
    )

print(f'The number of distinct authors is : {len(distinct_authors)}.')
print(f'The number of distinct publication venues are : {len(distinct_publication_venues)}.')
print(f'The number of distinct publications are : {len(distinct_publications)}.')
print(f'The number of distinct citations are : {len(distinct_citations)}.')




print("Close matches (difflib) to 'Principles and Practice of Knowledge Discovery in Databases':\n")

# reference - https://docs.python.org/3/library/difflib.html
# reference - https://stackoverflow.com/questions/10018679/python-find-closest-string-from-a-list-to-another-string
for i in difflib.get_close_matches("Principles and Practice of Knowledge Discovery in Databases", 
                                   distinct_publication_venues, 
                                   n=15):
    print(i)

print("\nSubstring Matches to 'Principles and Practice of Knowledge Discovery in Databases'\n")
for entry in distinct_publication_venues:
    if "Principles and Practice of Knowledge Discovery in Databases" in entry:
        print(entry)




author_publications = defaultdict(list)

for value in acm_dict.values():
    authors = value.get('#@', [])
    publication_title = value.get('#*', [None])[0]
    for author in authors:
        if author and publication_title:  
            author_publications[author].append(publication_title)

#author_publications = dict(author_publications)

publications_per_author = [len(publications) for publications in author_publications.values()]


plt.figure(figsize=(10, 6))
plt.hist(publications_per_author, 
         bins=200, 
         log=True, 
         color='steelblue', 
         edgecolor='black')
plt.title("Histogram of Publications per Author", 
          fontsize=14)
plt.xlabel("Number of Publications", 
           fontsize=12)
plt.ylabel("Number of Authors (log scale)", 
           fontsize=12)
plt.grid(axis='y', 
         linestyle='--', 
         alpha=0.7)
plt.show()




publication_counts = list(author_publications.values())
print(publication_counts)
# Calculate statistics
#mean = mean(publication_counts)
#std_dev = std(publication_counts)
#q1 = np.percentile(publication_counts, 25)  # 1st quartile
#median = np.median(publication_counts)     # 2nd quartile (median)
#q3 = np.percentile(publication_counts, 75)  # 3rd quartile

# Print results
#print(f"Mean: {mean}")
#print(f"Standard Deviation: {std_dev}")
#print(f"Q1 (1st Quartile): {q1}")
#print(f"Median (Q2): {median}")
#print(f"Q3 (3rd Quartile): {q3}")



del acm_dict



