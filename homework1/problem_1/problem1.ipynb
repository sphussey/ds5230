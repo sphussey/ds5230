{
 "cells": [
  {
   "cell_type": "markdown",
   "id": "3b81eca6-c76a-4857-915f-9d2139ec32cf",
   "metadata": {},
   "source": [
    "# PROBLEM 1: Aminer : basic dataset analysis\n",
    "\n",
    "This is a large dataset (about 2 million publications – it takes about a minute just to parse!). While your notebook must successfully work on the entire dataset, you may find it useful to work on a subset while getting your code to work."
   ]
  },
  {
   "cell_type": "code",
   "execution_count": 4,
   "id": "87c88789-b21f-4363-9cce-7ab4d915ae5f",
   "metadata": {},
   "outputs": [],
   "source": [
    "# import modules\n",
    "\n",
    "import matplotlib.pyplot as plt\n",
    "import numpy as np\n",
    "import sqlite3\n",
    "import difflib\n",
    "import timeit\n"
   ]
  },
  {
   "cell_type": "code",
   "execution_count": 5,
   "id": "968bf785-f83d-4332-bd98-f157f42555ee",
   "metadata": {},
   "outputs": [],
   "source": [
    "# constants and paths\n",
    "\n",
    "AMINERDATASETPATH = 'data/acm.txt'\n",
    "SQLITEDB = 'acm.db'\n"
   ]
  },
  {
   "cell_type": "code",
   "execution_count": 3,
   "id": "400dd7b2-94be-4851-9c09-ea6b6bc06713",
   "metadata": {},
   "outputs": [
    {
     "name": "stdout",
     "output_type": "stream",
     "text": [
      "89.8 µs ± 0 ns per loop (mean ± std. dev. of 1 run, 10,000 loops each)\n"
     ]
    }
   ],
   "source": [
    "# create sqlite db because tyring to keep this data \n",
    "# in memory crashes computer\n",
    "# reference - https://www.sqlite.org/lang.html\n",
    "# reference - https://stackoverflow.com/questions/45374921/why-does-timeit-loop-different-number-of-times\n",
    "\n",
    "def executeSQLCommand(db, command):\n",
    "    ''' execute sqlitedb commands (not for queries!)'''\n",
    "    # establish db connection\n",
    "    conn = sqlite3.connect(db) \n",
    "    cursor = conn.cursor()\n",
    "\n",
    "    #execute command\n",
    "    cursor.execute(command)\n",
    "    conn.commit()\n",
    "    \n",
    "    conn.close() \n",
    "\n",
    "# make a table acm_data to store the data\n",
    "create_table_command = \"\"\"\n",
    "    CREATE TABLE IF NOT EXISTS acm_data (\n",
    "        id INTEGER PRIMARY KEY AUTOINCREMENT,\n",
    "        indexValue TEXT,\n",
    "        authors TEXT,\n",
    "        publicationName TEXT,\n",
    "        publicationVenue TEXT,\n",
    "        publicationDate TEXT,\n",
    "        citations TEXT,\n",
    "        UNIQUE(indexValue, authors, publicationName, publicationVenue, publicationDate, citations)\n",
    "        );\n",
    "    \"\"\"\n",
    "\n",
    "%timeit -r1 executeSQLCommand(SQLITEDB, create_table_command)"
   ]
  },
  {
   "cell_type": "code",
   "execution_count": 4,
   "id": "0272a744-b659-48bb-b14d-6a802c9c2852",
   "metadata": {},
   "outputs": [
    {
     "name": "stdout",
     "output_type": "stream",
     "text": [
      "28.4 s ± 0 ns per loop (mean ± std. dev. of 1 run, 1 loop each)\n"
     ]
    }
   ],
   "source": [
    "# https://stackoverflow.com/questions/1711631/improve-insert-per-second-performance-of-sqlite\n",
    "# https://avi.im/blag/2021/fast-sqlite-inserts/\n",
    "# https://stackoverflow.com/questions/71220057/unpack-tuple-to-format-string\n",
    "# example entry ('1', '#*', 'MOSFET table look-up models for circuit \n",
    "#                simulation'), ('1', '#t', '1984'), ('1', '#c', \n",
    "#                'Integration, the VLSI Journal'), ('1', '#index', '1')\n",
    "\n",
    "\n",
    "def batchInsert(db, txtfilepath, batchsize=1000):\n",
    "    '''batch insert data from acm.txt into sqlite db in batches'''\n",
    "    try:\n",
    "        conn = sqlite3.connect(db) \n",
    "        cursor = conn.cursor()\n",
    "        cursor.execute(\"PRAGMA synchronous = OFF;\")\n",
    "        cursor.execute(\"PRAGMA journal_mode = WAL;\")\n",
    "        batch_data = []\n",
    "        # parse acm.txt and make batches to insert into db\n",
    "        with open(txtfilepath, 'r') as acm:\n",
    "            entry = {}\n",
    "            for line in acm:\n",
    "                # if its the end of a block (line = \\n) append entry to batch data \n",
    "                # and if correct batchsize insert batch)\n",
    "                if not line.strip():\n",
    "                    if entry:\n",
    "                        index_value = entry.get('#index', '')\n",
    "                        authors = ', '.join(entry.get('#@', []))\n",
    "                        publication_name = ', '.join(entry.get('#*', ''))\n",
    "                        publication_venue = ', '.join(entry.get('#c', ''))\n",
    "                        publication_date = ', '.join(entry.get('#t', ''))\n",
    "                        citations = ', '.join(entry.get('#%', ''))\n",
    "                        \n",
    "                        # Append to batch\n",
    "                        batch_data.append((index_value, authors, publication_name, publication_venue, publication_date, citations))\n",
    "                        \n",
    "                        # Insert in batches\n",
    "                        if len(batch_data) >= batchsize:\n",
    "                            insertString = \"\"\"\n",
    "                                INSERT or IGNORE INTO acm_data (indexValue, authors, publicationName, publicationVenue, publicationDate, citations) \n",
    "                                VALUES (?, ?, ?, ?, ?, ?);\n",
    "                            \"\"\"\n",
    "                            cursor.executemany(insertString, batch_data)\n",
    "                            conn.commit()\n",
    "                            batch_data = []  \n",
    "\n",
    "                    entry = {}  \n",
    "                    continue\n",
    "    \n",
    "                # otherwise update entry with data from block of data in file\n",
    "                elif line.startswith('#index'):\n",
    "                    entry['#index'] = line.replace('#index', '').strip()\n",
    "                \n",
    "                elif line.startswith('#'):\n",
    "                    key = line[:2]\n",
    "                    value = line[2:].strip()\n",
    "                    \n",
    "                    if key in entry:\n",
    "                        entry[key].append(value)\n",
    "                    else:\n",
    "                            entry[key] = [value]\n",
    "        \n",
    "            # add any remaining data less than batch threshold\n",
    "            if batch_data:\n",
    "                insertString = \"\"\"\n",
    "                    INSERT or IGNORE INTO acm_data (indexValue, authors, publicationName, publicationVenue, publicationDate, citations) \n",
    "                    VALUES (?, ?, ?, ?, ?, ?);\n",
    "                    \"\"\"\n",
    "                cursor.executemany(insertString, batch_data)\n",
    "                conn.commit()\n",
    "                batch_data = []\n",
    "    except Exception as e:\n",
    "        print(e)\n",
    "    finally:\n",
    "        conn.close()\n",
    "\n",
    "%timeit -r1 batchInsert(SQLITEDB, AMINERDATASETPATH, batchsize=1000)"
   ]
  },
  {
   "cell_type": "markdown",
   "id": "e475775e-0f81-43ce-8ccc-3d58462ab371",
   "metadata": {
    "editable": true,
    "slideshow": {
     "slide_type": ""
    },
    "tags": [
     "partA"
    ]
   },
   "source": [
    "## Part A \n",
    "\n",
    "Compute the number of distinct authors, publication venues, publications, and citations/references"
   ]
  },
  {
   "cell_type": "code",
   "execution_count": 6,
   "id": "b443e97b-17fc-478a-94dc-8dc8dd137b6b",
   "metadata": {
    "editable": true,
    "slideshow": {
     "slide_type": ""
    },
    "tags": [
     "partA"
    ]
   },
   "outputs": [
    {
     "name": "stdout",
     "output_type": "stream",
     "text": [
      "525 µs ± 0 ns per loop (mean ± std. dev. of 1 run, 1 loop each)\n"
     ]
    }
   ],
   "source": [
    "\n",
    "# create indexes so i dont wait all day for queries\n",
    "def create_indexes():\n",
    "    conn = sqlite3.connect(SQLITEDB) \n",
    "    cursor = conn.cursor()\n",
    "    cursor.execute(\"CREATE INDEX IF NOT EXISTS idx_indexValue ON acm_data(indexValue);\")\n",
    "    cursor.execute(\"CREATE INDEX IF NOT EXISTS idx_authors ON acm_data(authors);\")\n",
    "    cursor.execute(\"CREATE INDEX IF NOT EXISTS idx_publicationName ON acm_data(publicationName);\")\n",
    "    cursor.execute(\"CREATE INDEX IF NOT EXISTS idx_publicationVenue ON acm_data(publicationVenue);\")\n",
    "    cursor.execute(\"CREATE INDEX IF NOT EXISTS idx_publicationDate ON acm_data(publicationDate);\")\n",
    "    cursor.execute(\"CREATE INDEX IF NOT EXISTS idx_citations ON acm_data(citations);\")\n",
    "    conn.close()\n",
    "\n",
    "%timeit -r1 create_indexes()"
   ]
  },
  {
   "cell_type": "code",
   "execution_count": 6,
   "id": "dde997f4-51dc-4613-bc52-73801f5f5d34",
   "metadata": {
    "editable": true,
    "slideshow": {
     "slide_type": ""
    },
    "tags": [
     "partA"
    ]
   },
   "outputs": [
    {
     "name": "stdout",
     "output_type": "stream",
     "text": [
      "The number of distinct author entries are : 1651585.\n",
      "The number of distinct publication venues entries are : 273329.\n",
      "The number of distinct publication entries are : 2183551.\n",
      "The number of distinct citation entries are : 1007495.\n"
     ]
    }
   ],
   "source": [
    "def count_distinct_entries():\n",
    "    # establish connection\n",
    "    conn = sqlite3.connect(\"acm.db\")\n",
    "    cursor = conn.cursor()\n",
    "    authors_list_raw = cursor.execute(\"\"\"\n",
    "        SELECT DISTINCT(authors)\n",
    "        FROM acm_data \n",
    "        WHERE authors != '';\n",
    "        \"\"\").fetchall()\n",
    "    \n",
    "    distinct_publication_venues = cursor.execute(\"\"\"\n",
    "        SELECT DISTINCT(publicationVenue) \n",
    "        FROM acm_data \n",
    "        WHERE publicationVenue != '';\n",
    "        \"\"\").fetchall()\n",
    "    \n",
    "    distinct_publications = cursor.execute(\"\"\"\n",
    "        SELECT DISTINCT(publicationName)\n",
    "        FROM acm_data \n",
    "        WHERE publicationName != '';\n",
    "        \"\"\").fetchall()\n",
    "    \n",
    "    citations_raw = cursor.execute(\"\"\"\n",
    "        SELECT DISTINCT(citations)\n",
    "        FROM acm_data \n",
    "        WHERE citations != '';\n",
    "        \"\"\").fetchall()\n",
    "    \n",
    "    conn.close()\n",
    "    \n",
    "    distinct_authors = set(author.strip() for entry in authors_list_raw for author in entry[0].split(',') if any(char.isalnum() for char in author))\n",
    "    distinct_citations = set(citation.strip() for entry in citations_raw for citation in entry[0].split(',') if any(char.isalnum() for char in citation))\n",
    "    \n",
    "    \n",
    "    print(f'The number of distinct author entries are : {len(distinct_authors)}.')\n",
    "    print(f'The number of distinct publication venues entries are : {len(distinct_publication_venues)}.')\n",
    "    print(f'The number of distinct publication entries are : {len(distinct_publications)}.')\n",
    "    print(f'The number of distinct citation entries are : {len(distinct_citations)}.')\n",
    "    return (distinct_authors,\n",
    "           distinct_publication_venues,\n",
    "           distinct_publications,\n",
    "           distinct_citations)\n",
    "\n",
    "#%timeit -r1 need to take print statements out\n",
    "distinct_authors, distinct_publication_venues, distinct_publications, distinct_citations = count_distinct_entries()"
   ]
  },
  {
   "cell_type": "code",
   "execution_count": 8,
   "id": "81c03b67-63a0-450c-a8c3-11823ef5f222",
   "metadata": {},
   "outputs": [
    {
     "name": "stderr",
     "output_type": "stream",
     "text": [
      "IOPub data rate exceeded.\n",
      "The Jupyter server will temporarily stop sending output\n",
      "to the client in order to avoid crashing it.\n",
      "To change this limit, set the config variable\n",
      "`--ServerApp.iopub_data_rate_limit`.\n",
      "\n",
      "Current values:\n",
      "ServerApp.iopub_data_rate_limit=1000000.0 (bytes/sec)\n",
      "ServerApp.rate_limit_window=3.0 (secs)\n",
      "\n"
     ]
    }
   ],
   "source": [
    "print(distinct_publication_venues)"
   ]
  },
  {
   "cell_type": "markdown",
   "id": "a4cac3d1-71a1-434e-9770-729590526598",
   "metadata": {
    "editable": true,
    "slideshow": {
     "slide_type": ""
    },
    "tags": [
     "partB"
    ]
   },
   "source": [
    "## Part B.\n",
    "\n",
    "Are these numbers likely to be accurate? As an example look up all the publications venue names associated with the conference “Principles and Practice of Knowledge Discovery in Databases” – what do you notice?"
   ]
  },
  {
   "cell_type": "code",
   "execution_count": 7,
   "id": "a66ae8c6-af12-462d-bf5b-82e1a16c1aa4",
   "metadata": {
    "editable": true,
    "slideshow": {
     "slide_type": ""
    },
    "tags": [
     "partB"
    ]
   },
   "outputs": [
    {
     "name": "stdout",
     "output_type": "stream",
     "text": [
      "Close matches (difflib) to 'Principles and Practice of Knowledge Discovery in Databases':\n",
      "\n",
      "\n",
      "Substring Matches to 'Principles and Practice of Knowledge Discovery in Databases':\n",
      "\n"
     ]
    }
   ],
   "source": [
    "\n",
    "def partB(distinct_publication_venues):\n",
    "    # Search for close matches using difflib\n",
    "    print(\"Close matches (difflib) to 'Principles and Practice of Knowledge Discovery in Databases':\\n\")\n",
    "    \n",
    "    # using distinct_publication_venues from partA\n",
    "    close_matches = difflib.get_close_matches(\n",
    "        \"Principles and Practice of Knowledge Discovery in Databases\", \n",
    "        distinct_publication_venues, \n",
    "        n=15\n",
    "    )\n",
    "    \n",
    "    for match in close_matches:\n",
    "        print(match)\n",
    "    \n",
    "    # find substring matches\n",
    "    print(\"\\nSubstring Matches to 'Principles and Practice of Knowledge Discovery in Databases':\\n\")\n",
    "    for entry in distinct_publication_venues:\n",
    "        if \"Principles and Practice of Knowledge Discovery in Databases\" in entry:\n",
    "            print(entry)\n",
    "\n",
    "#%timeit -r1 need to take print statements out\n",
    "partB(distinct_publication_venues)"
   ]
  },
  {
   "cell_type": "markdown",
   "id": "18afa98e-bb5e-49c2-a9c7-bbfd536429f9",
   "metadata": {},
   "source": [
    "## Part C\n",
    "For each author, construct the list of publications. Plot a histogram of the number of publications per author (use a logarithmic scale on the y axis)"
   ]
  },
  {
   "cell_type": "code",
   "execution_count": 3,
   "id": "3a0a5658-4e31-4724-8234-ec1ffac184c5",
   "metadata": {
    "editable": true,
    "slideshow": {
     "slide_type": ""
    },
    "tags": []
   },
   "outputs": [
    {
     "data": {
      "image/png": "[encoded data removed]",
      "text/plain": [
       "<Figure size 1000x600 with 1 Axes>"
      ]
     },
     "metadata": {},
     "output_type": "display_data"
    }
   ],
   "source": [
    "\n",
    "# connect to db\n",
    "conn = sqlite3.connect(\"acm_data.db\")\n",
    "cursor = conn.cursor()\n",
    "\n",
    "\n",
    "conn.commit()\n",
    "\n",
    "# query database to get all authors and their pub titles\n",
    "cursor.execute(\"\"\"\n",
    "SELECT a.value AS author, p.value AS publication_title\n",
    "FROM acm_data a\n",
    "JOIN acm_data p ON a.index_value = p.index_value\n",
    "WHERE a.key = '#@' AND p.key = '#*';\n",
    "\"\"\")\n",
    "\n",
    "# parse result\n",
    "author_publications = defaultdict(list)\n",
    "for author, publication_title in cursor.fetchall():\n",
    "    if author and publication_title: \n",
    "        author_publications[author].append(publication_title)\n",
    "\n",
    "# get the number of publications per author\n",
    "publications_per_author = [len(publications) for publications in author_publications.values()]\n",
    "\n",
    "# Plot the histogram\n",
    "plt.figure(figsize=(10, 6))\n",
    "plt.hist(publications_per_author, \n",
    "         bins=200, \n",
    "         log=True, \n",
    "         color='steelblue', \n",
    "         edgecolor='black')\n",
    "plt.title(\"Histogram of Publications per Author\", \n",
    "          fontsize=14)\n",
    "plt.xlabel(\"Number of Publications\", \n",
    "           fontsize=12)\n",
    "plt.ylabel(\"Number of Authors (log scale)\", \n",
    "           fontsize=12)\n",
    "plt.grid(axis='y', \n",
    "         linestyle='--', \n",
    "         alpha=0.7)\n",
    "plt.show()\n",
    "\n",
    "# Close the database connection\n",
    "conn.close()"
   ]
  },
  {
   "cell_type": "code",
   "execution_count": 11,
   "id": "f9b583bd-6352-45e0-80d5-3a4205d468c5",
   "metadata": {},
   "outputs": [
    {
     "name": "stderr",
     "output_type": "stream",
     "text": [
      "IOPub data rate exceeded.\n",
      "The Jupyter server will temporarily stop sending output\n",
      "to the client in order to avoid crashing it.\n",
      "To change this limit, set the config variable\n",
      "`--ServerApp.iopub_data_rate_limit`.\n",
      "\n",
      "Current values:\n",
      "ServerApp.iopub_data_rate_limit=1000000.0 (bytes/sec)\n",
      "ServerApp.rate_limit_window=3.0 (secs)\n",
      "\n"
     ]
    }
   ],
   "source": [
    "# Connect to the SQLite database\n",
    "conn = sqlite3.connect(\"acm_data.db\")\n",
    "cursor = conn.cursor()\n",
    "\n",
    "# Ensure the database is indexed for better performance\n",
    "cursor.execute(\"CREATE INDEX IF NOT EXISTS idx_index_key_value ON acm_data (index_value, key, value);\")\n",
    "conn.commit()\n",
    "\n",
    "# Query the database to count the number of publications per author\n",
    "cursor.execute(\"\"\"\n",
    "SELECT a.value AS author, COUNT(DISTINCT p.value) AS publication_count\n",
    "FROM acm_data a\n",
    "JOIN acm_data p ON a.index_value = p.index_value\n",
    "WHERE a.key = '#@' AND p.key = '#*'\n",
    "GROUP BY a.value;\n",
    "\"\"\")\n",
    "\n",
    "# Fetch publication counts\n",
    "publication_counts = [row[1] for row in cursor.fetchall()]\n",
    "\n",
    "# Calculate statistics\n",
    "mean = np.mean(publication_counts)\n",
    "std_dev = np.std(publication_counts)\n",
    "q1 = np.percentile(publication_counts, 25)  # 1st quartile\n",
    "median = np.median(publication_counts)     # 2nd quartile (median)\n",
    "q3 = np.percentile(publication_counts, 75)  # 3rd quartile\n",
    "\n",
    "# Print results\n",
    "print(f\"Mean: {mean}\")\n",
    "print(f\"Standard Deviation: {std_dev}\")\n",
    "print(f\"Q1 (1st Quartile): {q1}\")\n",
    "print(f\"Median (Q2): {median}\")\n",
    "print(f\"Q3 (3rd Quartile): {q3}\")\n",
    "\n",
    "# Close the database connection\n",
    "conn.close()"
   ]
  },
  {
   "cell_type": "code",
   "execution_count": 10,
   "id": "13192981-ff4f-4020-8c29-188f5e208f1f",
   "metadata": {},
   "outputs": [],
   "source": [
    "del acm_dict"
   ]
  },
  {
   "cell_type": "code",
   "execution_count": null,
   "id": "26340b37-2d58-432c-b41a-e413441fbe28",
   "metadata": {},
   "outputs": [],
   "source": []
  }
 ],
 "metadata": {
  "kernelspec": {
   "display_name": "Python (System)",
   "language": "python",
   "name": "system-python"
  },
  "language_info": {
   "codemirror_mode": {
    "name": "ipython",
    "version": 3
   },
   "file_extension": ".py",
   "mimetype": "text/x-python",
   "name": "python",
   "nbconvert_exporter": "python",
   "pygments_lexer": "ipython3",
   "version": "3.9.6"
  },
  "toc": {
   "base_numbering": 1
  }
 },
 "nbformat": 4,
 "nbformat_minor": 5
}
